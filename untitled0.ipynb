{
  "nbformat": 4,
  "nbformat_minor": 0,
  "metadata": {
    "colab": {
      "provenance": [],
      "authorship_tag": "ABX9TyNtJ85AXSUahQVhZMstpUmr",
      "include_colab_link": true
    },
    "kernelspec": {
      "name": "python3",
      "display_name": "Python 3"
    },
    "language_info": {
      "name": "python"
    }
  },
  "cells": [
    {
      "cell_type": "markdown",
      "metadata": {
        "id": "view-in-github",
        "colab_type": "text"
      },
      "source": [
        "<a href=\"https://colab.research.google.com/github/Dhirajsharma2060/nlpproject/blob/main/untitled0.ipynb\" target=\"_parent\"><img src=\"https://colab.research.google.com/assets/colab-badge.svg\" alt=\"Open In Colab\"/></a>"
      ]
    },
    {
      "cell_type": "code",
      "source": [
        "!pip install nltk"
      ],
      "metadata": {
        "colab": {
          "base_uri": "https://localhost:8080/"
        },
        "id": "XfunUOhJ-ktp",
        "outputId": "301903ed-5418-496a-ff86-03ec4dda651b"
      },
      "execution_count": null,
      "outputs": [
        {
          "output_type": "stream",
          "name": "stdout",
          "text": [
            "Requirement already satisfied: nltk in /usr/local/lib/python3.10/dist-packages (3.8.1)\n",
            "Requirement already satisfied: click in /usr/local/lib/python3.10/dist-packages (from nltk) (8.1.7)\n",
            "Requirement already satisfied: joblib in /usr/local/lib/python3.10/dist-packages (from nltk) (1.4.2)\n",
            "Requirement already satisfied: regex>=2021.8.3 in /usr/local/lib/python3.10/dist-packages (from nltk) (2024.9.11)\n",
            "Requirement already satisfied: tqdm in /usr/local/lib/python3.10/dist-packages (from nltk) (4.66.5)\n"
          ]
        }
      ]
    },
    {
      "cell_type": "code",
      "source": [
        "import nltk\n",
        "nltk.download('stopwords')\n"
      ],
      "metadata": {
        "colab": {
          "base_uri": "https://localhost:8080/"
        },
        "id": "zgmk4H2GBSTP",
        "outputId": "0abffce1-1ccc-4b91-b3f9-8a6f99ed23aa"
      },
      "execution_count": null,
      "outputs": [
        {
          "output_type": "stream",
          "name": "stderr",
          "text": [
            "[nltk_data] Downloading package stopwords to /root/nltk_data...\n",
            "[nltk_data]   Unzipping corpora/stopwords.zip.\n"
          ]
        },
        {
          "output_type": "execute_result",
          "data": {
            "text/plain": [
              "True"
            ]
          },
          "metadata": {},
          "execution_count": 6
        }
      ]
    },
    {
      "cell_type": "code",
      "source": [
        "import nltk\n",
        "from nltk.tokenize import word_tokenize\n",
        "from nltk.corpus import stopwords\n",
        "\n",
        "# Expanded list of courses including trending technologies\n",
        "courses = {\n",
        "    \"python\": {\n",
        "        \"beginner\": {\"name\": \"Python for Everybody (Coursera)\", \"link\": \"https://www.coursera.org/specializations/python\"},\n",
        "        \"intermediate\": {\"name\": \"Intermediate Python (Udemy)\", \"link\": \"https://www.udemy.com/course/intermediate-python/\"},\n",
        "        \"advanced\": {\"name\": \"Advanced Python (Udemy)\", \"link\": \"https://www.udemy.com/course/advanced-python/\"},\n",
        "        \"analytical\": True, \"creative\": False\n",
        "    },\n",
        "    \"machine learning\": {\n",
        "        \"beginner\": {\"name\": \"Machine Learning by Andrew Ng (Coursera)\", \"link\": \"https://www.coursera.org/learn/machine-learning\"},\n",
        "        \"intermediate\": {\"name\": \"Intermediate Machine Learning (Kaggle)\", \"link\": \"https://www.kaggle.com/learn/intermediate-machine-learning\"},\n",
        "        \"advanced\": {\"name\": \"Advanced Machine Learning (Udemy)\", \"link\": \"https://www.udemy.com/course/advanced-machine-learning/\"},\n",
        "        \"analytical\": True, \"creative\": False\n",
        "    },\n",
        "    \"solana with rust\": {\n",
        "        \"beginner\": {\"name\": \"Solana Development with Rust (Udemy)\", \"link\": \"https://www.udemy.com/course/solana-development-with-rust/\"},\n",
        "        \"intermediate\": {\"name\": \"Master Solana Programming with Rust (Udemy)\", \"link\": \"https://www.udemy.com/course/master-solana-programming-with-rust/\"},\n",
        "        \"advanced\": {\"name\": \"Advanced Solana Development (Udemy)\", \"link\": \"https://www.udemy.com/course/advanced-solana-development/\"},\n",
        "        \"analytical\": True, \"creative\": False\n",
        "    },\n",
        "    \"next.js\": {\n",
        "        \"beginner\": {\"name\": \"Next.js Beginner Tutorial (YouTube)\", \"link\": \"https://www.youtube.com/watch?v=mfS3c1p6N5A\"},\n",
        "        \"intermediate\": {\"name\": \"Next.js & React - The Complete Guide (Udemy)\", \"link\": \"https://www.udemy.com/course/nextjs-react-the-complete-guide/\"},\n",
        "        \"advanced\": {\"name\": \"Advanced Next.js (Frontend Masters)\", \"link\": \"https://frontendmasters.com/courses/advanced-next-js/\"},\n",
        "        \"analytical\": False, \"creative\": True\n",
        "    },\n",
        "    \"golang\": {\n",
        "        \"beginner\": {\"name\": \"Go: The Complete Developer's Guide (Udemy)\", \"link\": \"https://www.udemy.com/course/go-the-complete-developers-guide/\"},\n",
        "        \"intermediate\": {\"name\": \"Golang for Web Developers (Udemy)\", \"link\": \"https://www.udemy.com/course/golang-web-developers/\"},\n",
        "        \"advanced\": {\"name\": \"Advanced Go Programming (Udemy)\", \"link\": \"https://www.udemy.com/course/advanced-go-programming/\"},\n",
        "        \"analytical\": True, \"creative\": False\n",
        "    },\n",
        "    \"spring boot\": {\n",
        "        \"beginner\": {\"name\": \"Spring Boot Basics (Udemy)\", \"link\": \"https://www.udemy.com/course/spring-boot-basics/\"},\n",
        "        \"intermediate\": {\"name\": \"Spring Framework Masterclass (Udemy)\", \"link\": \"https://www.udemy.com/course/spring-framework-masterclass/\"},\n",
        "        \"advanced\": {\"name\": \"Spring Boot Advanced (Coursera)\", \"link\": \"https://www.coursera.org/specializations/spring-framework\"},\n",
        "        \"analytical\": True, \"creative\": False\n",
        "    },\n",
        "    \"django\": {\n",
        "        \"beginner\": {\"name\": \"Django for Beginners (Udemy)\", \"link\": \"https://www.udemy.com/course/django-for-beginners/\"},\n",
        "        \"intermediate\": {\"name\": \"Django Web Development (Udemy)\", \"link\": \"https://www.udemy.com/course/django-web-development/\"},\n",
        "        \"advanced\": {\"name\": \"Advanced Django (Udemy)\", \"link\": \"https://www.udemy.com/course/advanced-django/\"},\n",
        "        \"analytical\": True, \"creative\": False\n",
        "    },\n",
        "    \"fastapi\": {\n",
        "        \"beginner\": {\"name\": \"FastAPI for Beginners (YouTube)\", \"link\": \"https://www.youtube.com/watch?v=7t2alSnE2-I\"},\n",
        "        \"intermediate\": {\"name\": \"FastAPI & Docker (Udemy)\", \"link\": \"https://www.udemy.com/course/fastapi-docker/\"},\n",
        "        \"advanced\": {\"name\": \"Advanced FastAPI (YouTube)\", \"link\": \"https://www.youtube.com/watch?v=_BZGTsAbL10\"},\n",
        "        \"analytical\": True, \"creative\": False\n",
        "    },\n",
        "    \"cloud computing\": {\n",
        "        \"beginner\": {\"name\": \"AWS Cloud Practitioner Essentials (Coursera)\", \"link\": \"https://www.coursera.org/learn/aws-cloud-practitioner-essentials\"},\n",
        "        \"intermediate\": {\"name\": \"Azure Administrator Certification (Udemy)\", \"link\": \"https://www.udemy.com/course/microsoft-azure-certification/\"},\n",
        "        \"advanced\": {\"name\": \"Google Cloud Platform Professional Architect (Coursera)\", \"link\": \"https://www.coursera.org/professional-certificates/gcp-architect\"},\n",
        "        \"analytical\": True, \"creative\": False\n",
        "    },\n",
        "    \"cybersecurity\": {\n",
        "        \"beginner\": {\"name\": \"Introduction to Cyber Security (Udemy)\", \"link\": \"https://www.udemy.com/course/cyber-security-intro/\"},\n",
        "        \"intermediate\": {\"name\": \"Certified Ethical Hacker (CEH) (Udemy)\", \"link\": \"https://www.udemy.com/course/certified-ethical-hacker/\"},\n",
        "        \"advanced\": {\"name\": \"Advanced Cyber Security (Coursera)\", \"link\": \"https://www.coursera.org/specializations/cyber-security\"},\n",
        "        \"analytical\": True, \"creative\": False\n",
        "    }\n",
        "}\n",
        "\n",
        "# Stopwords to filter irrelevant words\n",
        "stop_words = set(stopwords.words('english'))\n",
        "\n",
        "# Tokenize and filter text\n",
        "def process_input(user_input):\n",
        "    tokens = word_tokenize(user_input.lower())\n",
        "    filtered_tokens = [word for word in tokens if word.isalnum() and word not in stop_words]\n",
        "    return filtered_tokens\n",
        "\n",
        "# Function to match the user's interests and course preferences\n",
        "def personality_match(creative, analytical, learning_level, interest_area):\n",
        "    recommended_courses = []\n",
        "\n",
        "    if interest_area not in courses:\n",
        "        return f\"Sorry, I don't have information on {interest_area} yet.\"\n",
        "\n",
        "    course_data = courses.get(interest_area, {})\n",
        "\n",
        "    if (creative and course_data.get(\"creative\", False)) or (analytical and course_data.get(\"analytical\", False)):\n",
        "        course_info = course_data.get(learning_level, {})\n",
        "        if course_info:\n",
        "            recommended_courses.append(f\"{course_info['name']} - {course_info['link']}\")\n",
        "\n",
        "    if recommended_courses:\n",
        "        return \"Here are some courses I recommend based on your preferences:\\n\" + \"\\n\".join(recommended_courses)\n",
        "    else:\n",
        "        return f\"Couldn't find specific courses for {interest_area} at the {learning_level} level, but keep exploring!\"\n",
        "\n",
        "# Chatbot function to interact with the user\n",
        "def chatbot():\n",
        "    print(\"Hello! Let's personalize your learning experience.\")\n",
        "\n",
        "    # Ask for the user's name and age\n",
        "    user_name = input(\"What's your name? \")\n",
        "    user_age = input(\"How old are you? \")\n",
        "\n",
        "    # Ask for tech interest area\n",
        "    print(\"\\nI can recommend courses in the following tech areas:\")\n",
        "    print(\", \".join(courses.keys()))\n",
        "\n",
        "    # Ask for tech interest\n",
        "    while True:\n",
        "        interest_area = input(\"\\nWhat tech field are you most interested in? \").lower()\n",
        "        if interest_area in courses:\n",
        "            break\n",
        "        else:\n",
        "            print(\"Sorry, that field is not in my current database. Please choose from the following:\")\n",
        "            print(\", \".join(courses.keys()))\n",
        "\n",
        "    # Ask personality-related questions\n",
        "    while True:\n",
        "        creativity = input(\"On a scale of 1-10, how creative are you? \")\n",
        "        if creativity.isdigit() and 1 <= int(creativity) <= 10:\n",
        "            break\n",
        "        else:\n",
        "            print(\"Please enter a valid number between 1 and 10.\")\n",
        "\n",
        "    while True:\n",
        "        analytical = input(\"On a scale of 1-10, how analytical or structured are you? \")\n",
        "        if analytical.isdigit() and 1 <= int(analytical) <= 10:\n",
        "            break\n",
        "        else:\n",
        "            print(\"Please enter a valid number between 1 and 10.\")\n",
        "\n",
        "    # Ask about coding proficiency\n",
        "    code_skill = input(\"How comfortable are you with coding? (beginner/intermediate/advanced): \").lower()\n",
        "\n",
        "    # Convert responses to boolean for matching\n",
        "    is_creative = int(creativity) >= 6  # Creative if score is 6 or above\n",
        "    is_analytical = int(analytical) >= 6  # Analytical if score is 6 or above\n",
        "\n",
        "    # Ask for the user's learning level\n",
        "    while True:\n",
        "        user_level = input(\"What's your learning level? (beginner/intermediate/advanced): \").lower()\n",
        "        if user_level in [\"beginner\", \"intermediate\", \"advanced\"]:\n",
        "            break\n",
        "        else:\n",
        "            print(\"Please enter either beginner, intermediate, or advanced.\")\n",
        "\n",
        "    # Provide course recommendations\n",
        "    recommendations = personality_match(is_creative, is_analytical, user_level, interest_area)\n",
        "\n",
        "    # Display the results\n",
        "    print(f\"\\nNice to meet you, {user_name}! Based on your age ({user_age}), tech interest in {interest_area}, and preferences:\")\n",
        "    print(recommendations)\n",
        "\n",
        "# Run the chatbot\n",
        "if __name__ == \"__main__\":\n",
        "    chatbot()\n"
      ],
      "metadata": {
        "colab": {
          "base_uri": "https://localhost:8080/",
          "height": 339
        },
        "id": "kXXzRRD5F9wE",
        "outputId": "03bac6b4-efe1-496f-f257-b2d96335fa48"
      },
      "execution_count": null,
      "outputs": [
        {
          "output_type": "stream",
          "name": "stdout",
          "text": [
            "Hello! Let's personalize your learning experience.\n"
          ]
        },
        {
          "output_type": "error",
          "ename": "KeyboardInterrupt",
          "evalue": "Interrupted by user",
          "traceback": [
            "\u001b[0;31m---------------------------------------------------------------------------\u001b[0m",
            "\u001b[0;31mKeyboardInterrupt\u001b[0m                         Traceback (most recent call last)",
            "\u001b[0;32m<ipython-input-11-462a50c8c817>\u001b[0m in \u001b[0;36m<cell line: 156>\u001b[0;34m()\u001b[0m\n\u001b[1;32m    155\u001b[0m \u001b[0;31m# Run the chatbot\u001b[0m\u001b[0;34m\u001b[0m\u001b[0;34m\u001b[0m\u001b[0m\n\u001b[1;32m    156\u001b[0m \u001b[0;32mif\u001b[0m \u001b[0m__name__\u001b[0m \u001b[0;34m==\u001b[0m \u001b[0;34m\"__main__\"\u001b[0m\u001b[0;34m:\u001b[0m\u001b[0;34m\u001b[0m\u001b[0;34m\u001b[0m\u001b[0m\n\u001b[0;32m--> 157\u001b[0;31m     \u001b[0mchatbot\u001b[0m\u001b[0;34m(\u001b[0m\u001b[0;34m)\u001b[0m\u001b[0;34m\u001b[0m\u001b[0;34m\u001b[0m\u001b[0m\n\u001b[0m",
            "\u001b[0;32m<ipython-input-11-462a50c8c817>\u001b[0m in \u001b[0;36mchatbot\u001b[0;34m()\u001b[0m\n\u001b[1;32m    100\u001b[0m \u001b[0;34m\u001b[0m\u001b[0m\n\u001b[1;32m    101\u001b[0m     \u001b[0;31m# Ask for the user's name and age\u001b[0m\u001b[0;34m\u001b[0m\u001b[0;34m\u001b[0m\u001b[0m\n\u001b[0;32m--> 102\u001b[0;31m     \u001b[0muser_name\u001b[0m \u001b[0;34m=\u001b[0m \u001b[0minput\u001b[0m\u001b[0;34m(\u001b[0m\u001b[0;34m\"What's your name? \"\u001b[0m\u001b[0;34m)\u001b[0m\u001b[0;34m\u001b[0m\u001b[0;34m\u001b[0m\u001b[0m\n\u001b[0m\u001b[1;32m    103\u001b[0m     \u001b[0muser_age\u001b[0m \u001b[0;34m=\u001b[0m \u001b[0minput\u001b[0m\u001b[0;34m(\u001b[0m\u001b[0;34m\"How old are you? \"\u001b[0m\u001b[0;34m)\u001b[0m\u001b[0;34m\u001b[0m\u001b[0;34m\u001b[0m\u001b[0m\n\u001b[1;32m    104\u001b[0m \u001b[0;34m\u001b[0m\u001b[0m\n",
            "\u001b[0;32m/usr/local/lib/python3.10/dist-packages/ipykernel/kernelbase.py\u001b[0m in \u001b[0;36mraw_input\u001b[0;34m(self, prompt)\u001b[0m\n\u001b[1;32m    849\u001b[0m                 \u001b[0;34m\"raw_input was called, but this frontend does not support input requests.\"\u001b[0m\u001b[0;34m\u001b[0m\u001b[0;34m\u001b[0m\u001b[0m\n\u001b[1;32m    850\u001b[0m             )\n\u001b[0;32m--> 851\u001b[0;31m         return self._input_request(str(prompt),\n\u001b[0m\u001b[1;32m    852\u001b[0m             \u001b[0mself\u001b[0m\u001b[0;34m.\u001b[0m\u001b[0m_parent_ident\u001b[0m\u001b[0;34m,\u001b[0m\u001b[0;34m\u001b[0m\u001b[0;34m\u001b[0m\u001b[0m\n\u001b[1;32m    853\u001b[0m             \u001b[0mself\u001b[0m\u001b[0;34m.\u001b[0m\u001b[0m_parent_header\u001b[0m\u001b[0;34m,\u001b[0m\u001b[0;34m\u001b[0m\u001b[0;34m\u001b[0m\u001b[0m\n",
            "\u001b[0;32m/usr/local/lib/python3.10/dist-packages/ipykernel/kernelbase.py\u001b[0m in \u001b[0;36m_input_request\u001b[0;34m(self, prompt, ident, parent, password)\u001b[0m\n\u001b[1;32m    893\u001b[0m             \u001b[0;32mexcept\u001b[0m \u001b[0mKeyboardInterrupt\u001b[0m\u001b[0;34m:\u001b[0m\u001b[0;34m\u001b[0m\u001b[0;34m\u001b[0m\u001b[0m\n\u001b[1;32m    894\u001b[0m                 \u001b[0;31m# re-raise KeyboardInterrupt, to truncate traceback\u001b[0m\u001b[0;34m\u001b[0m\u001b[0;34m\u001b[0m\u001b[0m\n\u001b[0;32m--> 895\u001b[0;31m                 \u001b[0;32mraise\u001b[0m \u001b[0mKeyboardInterrupt\u001b[0m\u001b[0;34m(\u001b[0m\u001b[0;34m\"Interrupted by user\"\u001b[0m\u001b[0;34m)\u001b[0m \u001b[0;32mfrom\u001b[0m \u001b[0;32mNone\u001b[0m\u001b[0;34m\u001b[0m\u001b[0;34m\u001b[0m\u001b[0m\n\u001b[0m\u001b[1;32m    896\u001b[0m             \u001b[0;32mexcept\u001b[0m \u001b[0mException\u001b[0m \u001b[0;32mas\u001b[0m \u001b[0me\u001b[0m\u001b[0;34m:\u001b[0m\u001b[0;34m\u001b[0m\u001b[0;34m\u001b[0m\u001b[0m\n\u001b[1;32m    897\u001b[0m                 \u001b[0mself\u001b[0m\u001b[0;34m.\u001b[0m\u001b[0mlog\u001b[0m\u001b[0;34m.\u001b[0m\u001b[0mwarning\u001b[0m\u001b[0;34m(\u001b[0m\u001b[0;34m\"Invalid Message:\"\u001b[0m\u001b[0;34m,\u001b[0m \u001b[0mexc_info\u001b[0m\u001b[0;34m=\u001b[0m\u001b[0;32mTrue\u001b[0m\u001b[0;34m)\u001b[0m\u001b[0;34m\u001b[0m\u001b[0;34m\u001b[0m\u001b[0m\n",
            "\u001b[0;31mKeyboardInterrupt\u001b[0m: Interrupted by user"
          ]
        }
      ]
    },
    {
      "cell_type": "code",
      "source": [],
      "metadata": {
        "id": "v9hrXPhAM1Li"
      },
      "execution_count": null,
      "outputs": []
    }
  ]
}